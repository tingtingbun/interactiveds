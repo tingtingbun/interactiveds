{
 "cells": [
  {
   "cell_type": "code",
   "execution_count": 106,
   "metadata": {
    "colab": {},
    "colab_type": "code",
    "id": "AlmfKjWayo5C"
   },
   "outputs": [],
   "source": [
    "import pandas as pd \n",
    "import numpy as np\n",
    "import os \n",
    "import matplotlib.pyplot as plt\n",
    "import plotly.express as px\n",
    "from collections import defaultdict\n",
    "import json\n",
    "from collections import Counter\n",
    "import seaborn as sns\n",
    "from scipy import stats\n",
    "import statsmodels.api as sm\n",
    "from IPython.core.display import display, HTML\n",
    "#%matplotlib inline  \n"
   ]
  },
  {
   "cell_type": "code",
   "execution_count": 107,
   "metadata": {},
   "outputs": [
    {
     "data": {
      "text/html": [
       "<a href=\"https://github.com/tingtingbun/interactiveds/tree/master/interactive\">datafile</a>"
      ],
      "text/plain": [
       "<IPython.core.display.HTML object>"
      ]
     },
     "metadata": {},
     "output_type": "display_data"
    }
   ],
   "source": [
    "## Access to all the data \n",
    "display(HTML(\"\"\"<a href=\"https://github.com/tingtingbun/interactiveds/tree/master/interactive\">datafile</a>\"\"\"))"
   ]
  },
  {
   "cell_type": "markdown",
   "metadata": {
    "colab_type": "text",
    "id": "w-cQlGf6yo5M"
   },
   "source": [
    "## PART I: Data Loading \n",
    "### Data Sources: There are a total of three data files from seperate sources \n",
    "#### a. file one: a file with seperate excel sheet containing baby names from social security application for all states (including the district of columbia from 1910 - 2018) \n",
    "#### b. file two: a single excel sheet containing the median income for all states (including the district of columbia) from 1984 - 2018 \n",
    "#### c. file three: a json file that records the corresponding state codes for all states \n",
    "### Data Description \n",
    "#### a. file one: five fields ['State','Names','Year of  birth','Number of Occurrences']\n",
    "#### b. file two: two fields ['Year','Median Income']\n",
    "#### c. file three: sample format {\"state code 1\":\"state 1\"}\n",
    "### Data Integration \n",
    "#### a. Based on file three, we replace the state name with the state code to prepare for the table join on file one and file two \n",
    "#### b. Join file one and file two on two fields ['Year','State']\n",
    "#### c. Since we do not have data points on year prior to 1984 on median income, we would restrict our final dataset to 1984 - 2018 \n",
    "#### d. Other remarks: there is no missing value in the dataset"
   ]
  },
  {
   "cell_type": "code",
   "execution_count": 108,
   "metadata": {
    "colab": {},
    "colab_type": "code",
    "id": "6WUW-L_0yo5P"
   },
   "outputs": [],
   "source": [
    "### dataset loading \n",
    "def data_loading (name_file, state_file, us_abbre_file):\n",
    "    df = pd.concat([pd.read_csv(name_file+'/' + i, sep=\",\",header=None) for i in os.listdir('namesbystate') if not i.startswith('.')]\\\n",
    "                  ,ignore_index=True)\n",
    "    df.columns = ['State','Sex','Year_of_birth','Name','Num_of_occurrences']\n",
    "    print('There are {} states in the dataset and they are {}'.format(len(df.State.unique().tolist()),df.State.unique().tolist()))\n",
    "    ### To check all 50 + D.C. are loaded correctly\n",
    "    \n",
    "    ### loading income dataset\n",
    "    df_income = pd.read_excel(state_file, header=[0])\n",
    "    df_income = pd.melt(df_income, id_vars='State', value_vars=df_income.columns.tolist()[1:])\n",
    "    df_income.rename(columns={\"variable\": \"year\", \"value\":\"median_income\"}, inplace = True)\n",
    "    \n",
    "    ### loading state abbrev json\n",
    "    with open (us_abbre_file) as file:\n",
    "        us_code = {y:x for x,y in json.load(file).items()}\n",
    "        \n",
    "    ### replacing abbreviation \n",
    "    for index, content in df_income.iterrows():\n",
    "        if content['State'] == 'United States':\n",
    "            pass\n",
    "        else:\n",
    "            df_income.loc[index,'State'] = us_code[content['State']]\n",
    "    \n",
    "    return pd.merge(df_income, df, left_on = ['State','year'], right_on =['State','Year_of_birth'])"
   ]
  },
  {
   "cell_type": "code",
   "execution_count": 109,
   "metadata": {
    "colab": {
     "base_uri": "https://localhost:8080/",
     "height": 54
    },
    "colab_type": "code",
    "id": "Wj_O0N0V4Ast",
    "outputId": "8734ca44-25e7-4a76-a838-de38c2a06a3a"
   },
   "outputs": [
    {
     "name": "stdout",
     "output_type": "stream",
     "text": [
      "There are 51 states in the dataset and they are ['IN', 'IL', 'KS', 'SC', 'HI', 'GA', 'SD', 'CO', 'NH', 'MS', 'MD', 'UT', 'LA', 'ME', 'WI', 'NJ', 'AR', 'NY', 'MT', 'OK', 'MA', 'NM', 'WY', 'OH', 'OR', 'NV', 'TX', 'TN', 'AZ', 'MN', 'WA', 'WV', 'NC', 'MO', 'AL', 'VA', 'CA', 'CT', 'AK', 'ND', 'VT', 'MI', 'NE', 'KY', 'ID', 'DC', 'IA', 'FL', 'PA', 'RI', 'DE']\n"
     ]
    }
   ],
   "source": [
    "a = data_loading('namesbystate','h08-2.xls','state_code.json')\n",
    "a = a[a.year > 2007]"
   ]
  },
  {
   "cell_type": "code",
   "execution_count": 4,
   "metadata": {
    "colab": {
     "base_uri": "https://localhost:8080/",
     "height": 374
    },
    "colab_type": "code",
    "id": "c76hRr-Kyo5a",
    "outputId": "1f850ed1-7947-456e-ef8d-28769e6de4bd"
   },
   "outputs": [
    {
     "name": "stdout",
     "output_type": "stream",
     "text": [
      "The head 5 rows of the data \n",
      "\n",
      "  State  year  median_income Sex  Year_of_birth    Name  Num_of_occurrences\n",
      "0    AL  2018          49936   F           2018     Ava                 293\n",
      "1    AL  2018          49936   F           2018  Olivia                 259\n",
      "2    AL  2018          49936   F           2018  Harper                 204\n",
      "3    AL  2018          49936   F           2018    Emma                 202\n",
      "4    AL  2018          49936   F           2018  Amelia                 183\n",
      "\n",
      "\n",
      "Basic description of different fields in the integrated dataset \n",
      "\n",
      "       median_income  Year_of_birth  Num_of_occurrences\n",
      "count   2.879400e+06   2.879400e+06        2.879400e+06\n",
      "mean    4.367943e+04   2.002096e+03        4.061643e+01\n",
      "std     1.284236e+04   1.017420e+01        1.278418e+02\n",
      "min     1.543000e+04   1.983000e+03        5.000000e+00\n",
      "25%     3.366400e+04   1.994000e+03        7.000000e+00\n",
      "50%     4.346400e+04   2.003000e+03        1.100000e+01\n",
      "75%     5.201900e+04   2.011000e+03        2.700000e+01\n",
      "max     8.634500e+04   2.018000e+03        8.243000e+03\n"
     ]
    }
   ],
   "source": [
    "print('The head 5 rows of the data \\n\\n' + a.head().to_string() + '\\n\\n')\n",
    "\n",
    "print('Basic description of different fields in the integrated dataset \\n\\n' + a.describe().to_string())"
   ]
  },
  {
   "cell_type": "markdown",
   "metadata": {
    "colab_type": "text",
    "id": "HcFMQIzIyo5f"
   },
   "source": [
    "## PART II: Data Insights (Tableau)\n"
   ]
  },
  {
   "cell_type": "code",
   "execution_count": null,
   "metadata": {},
   "outputs": [],
   "source": []
  },
  {
   "cell_type": "markdown",
   "metadata": {},
   "source": [
    "## PART III: Gender Neutrality"
   ]
  },
  {
   "cell_type": "markdown",
   "metadata": {},
   "source": [
    "### a) "
   ]
  },
  {
   "cell_type": "code",
   "execution_count": 111,
   "metadata": {},
   "outputs": [],
   "source": [
    "def return_data_desired (df): \n",
    "    ### visualization of name lists with equal distribution between genders\n",
    "    ### and understanding the trade off between percentent difference and total number of occurrences\n",
    "    \n",
    "    gender_df = df.groupby(['State','year','Name','Sex']).agg({'Num_of_occurrences': 'sum'}).unstack().fillna(0)\n",
    "    bi_gender = gender_df.Num_of_occurrences[(gender_df.Num_of_occurrences.F > 0) & (gender_df.Num_of_occurrences.M > 0)]\n",
    "    \n",
    "    ### Deriving two filds \n",
    "    bi_gender['diff'] = abs(bi_gender.F - bi_gender.M)\n",
    "    bi_gender['percent_dff'] = abs(bi_gender.F - bi_gender.M )/(bi_gender.M+bi_gender.F)\n",
    "    bi_gender['Total_num'] = bi_gender.M+bi_gender.F \n",
    "    absolute_equal = bi_gender[(bi_gender['percent_dff'] == 0)] ### -> this gives a dataframe with names that are equally \n",
    "    absolute_equal.reset_index(inplace = True)     ###    shared between men and women \n",
    "    return absolute_equal"
   ]
  },
  {
   "cell_type": "code",
   "execution_count": 112,
   "metadata": {},
   "outputs": [
    {
     "data": {
      "text/html": [
       "<div>\n",
       "<style scoped>\n",
       "    .dataframe tbody tr th:only-of-type {\n",
       "        vertical-align: middle;\n",
       "    }\n",
       "\n",
       "    .dataframe tbody tr th {\n",
       "        vertical-align: top;\n",
       "    }\n",
       "\n",
       "    .dataframe thead th {\n",
       "        text-align: right;\n",
       "    }\n",
       "</style>\n",
       "<table border=\"1\" class=\"dataframe\">\n",
       "  <thead>\n",
       "    <tr style=\"text-align: right;\">\n",
       "      <th></th>\n",
       "      <th>Total Babies</th>\n",
       "      <th>Neutral Babies</th>\n",
       "      <th>percent</th>\n",
       "    </tr>\n",
       "    <tr>\n",
       "      <th>year</th>\n",
       "      <th></th>\n",
       "      <th></th>\n",
       "      <th></th>\n",
       "    </tr>\n",
       "  </thead>\n",
       "  <tbody>\n",
       "    <tr>\n",
       "      <th>2008</th>\n",
       "      <td>3343650</td>\n",
       "      <td>1300.0</td>\n",
       "      <td>0.000389</td>\n",
       "    </tr>\n",
       "    <tr>\n",
       "      <th>2009</th>\n",
       "      <td>3236049</td>\n",
       "      <td>1658.0</td>\n",
       "      <td>0.000512</td>\n",
       "    </tr>\n",
       "    <tr>\n",
       "      <th>2010</th>\n",
       "      <td>3121194</td>\n",
       "      <td>1404.0</td>\n",
       "      <td>0.000450</td>\n",
       "    </tr>\n",
       "    <tr>\n",
       "      <th>2011</th>\n",
       "      <td>3084961</td>\n",
       "      <td>2024.0</td>\n",
       "      <td>0.000656</td>\n",
       "    </tr>\n",
       "    <tr>\n",
       "      <th>2012</th>\n",
       "      <td>3081715</td>\n",
       "      <td>1622.0</td>\n",
       "      <td>0.000526</td>\n",
       "    </tr>\n",
       "    <tr>\n",
       "      <th>2013</th>\n",
       "      <td>3077781</td>\n",
       "      <td>1710.0</td>\n",
       "      <td>0.000556</td>\n",
       "    </tr>\n",
       "    <tr>\n",
       "      <th>2014</th>\n",
       "      <td>3139432</td>\n",
       "      <td>1570.0</td>\n",
       "      <td>0.000500</td>\n",
       "    </tr>\n",
       "    <tr>\n",
       "      <th>2015</th>\n",
       "      <td>3131544</td>\n",
       "      <td>2300.0</td>\n",
       "      <td>0.000734</td>\n",
       "    </tr>\n",
       "    <tr>\n",
       "      <th>2016</th>\n",
       "      <td>3095501</td>\n",
       "      <td>2274.0</td>\n",
       "      <td>0.000735</td>\n",
       "    </tr>\n",
       "    <tr>\n",
       "      <th>2017</th>\n",
       "      <td>3004086</td>\n",
       "      <td>2064.0</td>\n",
       "      <td>0.000687</td>\n",
       "    </tr>\n",
       "    <tr>\n",
       "      <th>2018</th>\n",
       "      <td>2934633</td>\n",
       "      <td>2774.0</td>\n",
       "      <td>0.000945</td>\n",
       "    </tr>\n",
       "  </tbody>\n",
       "</table>\n",
       "</div>"
      ],
      "text/plain": [
       "      Total Babies  Neutral Babies   percent\n",
       "year                                        \n",
       "2008       3343650          1300.0  0.000389\n",
       "2009       3236049          1658.0  0.000512\n",
       "2010       3121194          1404.0  0.000450\n",
       "2011       3084961          2024.0  0.000656\n",
       "2012       3081715          1622.0  0.000526\n",
       "2013       3077781          1710.0  0.000556\n",
       "2014       3139432          1570.0  0.000500\n",
       "2015       3131544          2300.0  0.000734\n",
       "2016       3095501          2274.0  0.000735\n",
       "2017       3004086          2064.0  0.000687\n",
       "2018       2934633          2774.0  0.000945"
      ]
     },
     "execution_count": 112,
     "metadata": {},
     "output_type": "execute_result"
    }
   ],
   "source": [
    "data = return_data_desired(a)\n",
    "data1 = data.groupby(['year']).agg({\"Total_num\":\"sum\"})\n",
    "total_pop = a.groupby(['year']).agg({'Num_of_occurrences': 'sum'})\n",
    "overall = total_pop.join(data1)\n",
    "overall.rename(columns = {\"Total_num\":\"Neutral Babies\",\"Num_of_occurrences\":\"Total Babies\"},inplace = True)\n",
    "overall['percent'] = overall[\"Neutral Babies\"]/overall[\"Total Babies\"]\n",
    "overall"
   ]
  },
  {
   "cell_type": "code",
   "execution_count": 113,
   "metadata": {},
   "outputs": [
    {
     "data": {
      "image/png": "[encoded data removed]",
      "text/plain": [
       "<Figure size 432x288 with 1 Axes>"
      ]
     },
     "metadata": {
      "needs_background": "light"
     },
     "output_type": "display_data"
    },
    {
     "data": {
      "text/plain": [
       "<Figure size 432x288 with 0 Axes>"
      ]
     },
     "metadata": {},
     "output_type": "display_data"
    }
   ],
   "source": [
    "plt.plot(overall.index, overall['percent'], color='r')\n",
    "plt.xlabel('year')\n",
    "plt.ylabel('Percent of Neutral Babies')\n",
    "plt.title('Neutral Babies Trend')\n",
    "plt.show()\n",
    "plt.savefig('baby_neutral.png')"
   ]
  },
  {
   "cell_type": "code",
   "execution_count": 116,
   "metadata": {},
   "outputs": [],
   "source": [
    "### Generating State-specific Dataset for Tableau \n",
    "\n",
    "data_state = data.groupby(['State','year']).agg({\"Total_num\":\"sum\"})\n",
    "total_pop_state = a.groupby(['State','year']).agg({'Num_of_occurrences': 'sum'})\n",
    "overall_state = total_pop_state.join(data_state)\n",
    "overall_state.rename(columns = {\"Total_num\":\"Neutral Babies\",\"Num_of_occurrences\":\"Total Babies\"},inplace = True)\n",
    "overall_state['percent'] = overall_state[\"Neutral Babies\"]/overall_state[\"Total Babies\"]"
   ]
  },
  {
   "cell_type": "code",
   "execution_count": 8,
   "metadata": {
    "colab": {},
    "colab_type": "code",
    "id": "lcrapT6Oyo5k"
   },
   "outputs": [],
   "source": [
    "def gender_neutral_visualize (df): \n",
    "    ### visualization of name lists with equal distribution between genders\n",
    "    ### and understanding the trade off between percentent difference and total number of occurrences\n",
    "    \n",
    "    gender_df = df.groupby(['Name','Sex']).agg({'Num_of_occurrences': 'sum'}).unstack().fillna(0)\n",
    "    bi_gender = gender_df.Num_of_occurrences[(gender_df.Num_of_occurrences.F > 0) & (gender_df.Num_of_occurrences.M > 0)]\n",
    "    \n",
    "    ### Deriving two filds \n",
    "    bi_gender['diff'] = abs(bi_gender.F - bi_gender.M)\n",
    "    bi_gender['percent_dff'] = abs(bi_gender.F - bi_gender.M )/(bi_gender.M+bi_gender.F)\n",
    "    bi_gender['Total_num'] = bi_gender.M+bi_gender.F \n",
    "    absolute_equal = bi_gender[(bi_gender['percent_dff'] == 0)] ### -> this gives a dataframe with names that are equally \n",
    "    absolute_equal.reset_index(inplace = True)                 ###    shared between men and women \n",
    "    \n",
    "    ### Plotting for equally shared name and the total occurences of the name\n",
    "    f, (ax1, ax2) = plt.subplots(1, 2, figsize=(25,10))\n",
    "    x = absolute_equal.Name.tolist()\n",
    "    y_pos = np.arange(len(x))\n",
    "    y = absolute_equal['Total_num'].tolist()\n",
    "\n",
    "    ax1.bar(y_pos, y, align='center', alpha=0.6)\n",
    "    ax1.set_xticks(y_pos)\n",
    "    ax1.set_xticklabels(x, rotation=90)\n",
    "    ax1.set_ylabel('Num of Occurrences')\n",
    "    ax1.set_title('Absolute Gender Neutral Names')\n",
    "    \n",
    "    max_state = absolute_equal[absolute_equal.Total_num==absolute_equal.Total_num.max()].Name.values[0]\n",
    "    print(max_state)\n",
    "    arrow_x = absolute_equal[absolute_equal.Total_num==absolute_equal.Total_num.max()].index.values[0] + 0.5\n",
    "    arrow_y = absolute_equal.Total_num.max() -1\n",
    "    ax1.annotate('max name is {} and the total count is  {}'.format(max_state,absolute_equal.Total_num.max()) \\\n",
    "             ,  xy=(arrow_x, arrow_y), xytext=(arrow_x-20, arrow_y), arrowprops=dict(facecolor=\"black\", width=4,headwidth=10, shrink=0.2))\n",
    "   \n",
    "    \n",
    "    \n",
    "    ### Plotting for percent difference against total number of occurrences \n",
    "    ax2.scatter(x=bi_gender['percent_dff'],y=bi_gender['Total_num'])\n",
    "    ax2.set_xlabel('Normalized Difference')\n",
    "    ax2.set_ylabel('Num of occurrences')\n",
    "    ax2.set_title('occurrences and Percent_diff Trade-off')\n",
    "    "
   ]
  },
  {
   "cell_type": "code",
   "execution_count": 0,
   "metadata": {
    "colab": {},
    "colab_type": "code",
    "id": "RB171i_Jyo5o",
    "outputId": "9eb269c2-05f7-499a-8fb0-a3ae617cf833"
   },
   "outputs": [
    {
     "name": "stdout",
     "output_type": "stream",
     "text": [
      "Rei\n"
     ]
    },
    {
     "data": {
      "image/png": "[encoded data removed]",
      "text/plain": [
       "<Figure size 1800x720 with 2 Axes>"
      ]
     },
     "metadata": {
      "needs_background": "light",
      "tags": []
     },
     "output_type": "display_data"
    }
   ],
   "source": [
    "gender_neutral_visualize(a)  "
   ]
  },
  {
   "cell_type": "markdown",
   "metadata": {
    "colab_type": "text",
    "id": "BYgG9t3Tyo5n"
   },
   "source": [
    "### b) Nutrality Score Calculation \n",
    "#### * note that names with percent difference greater than 0.5 are excluded"
   ]
  },
  {
   "cell_type": "code",
   "execution_count": 85,
   "metadata": {
    "colab": {},
    "colab_type": "code",
    "id": "uGuuoftOyo5q"
   },
   "outputs": [],
   "source": [
    "def algorithm_calculation (df, location='All'):\n",
    "    gender_df = df.groupby(['Name','Sex']).agg({'Num_of_occurrences': 'sum'}).unstack().fillna(0)\n",
    "    bi_gender = gender_df.Num_of_occurrences[(gender_df.Num_of_occurrences.F > 0) & (gender_df.Num_of_occurrences.M > 0)]\n",
    "    \n",
    "   \n",
    "    \n",
    "    bi_gender['percent_dff'] = abs(bi_gender.F - bi_gender.M )/(bi_gender.M+bi_gender.F)\n",
    "    bi_gender['Total_num'] = bi_gender.M+bi_gender.F  ### replicating the aggregated and derived dataframe\n",
    "    bi_gender_ii = bi_gender[(bi_gender['percent_dff']<=0.5) & (bi_gender.index!= 'Unknown')].copy()\n",
    "   \n",
    "    bi_gender_ii['percent_diff_rank'] = bi_gender_ii['percent_dff'].rank(ascending=False) ### ranking the total percent_diff, the lower the higher rank score\n",
    "    bi_gender_ii['Total_num_rank'] = bi_gender_ii['Total_num'].rank() ### ranking the total num, the higher the higher rank score \n",
    "    bi_gender_ii['score'] = bi_gender_ii['percent_diff_rank']+0.75*bi_gender_ii['Total_num_rank'] ### combined score calculate by the weighting coefficient\n",
    "    bi_gender_ii.sort_values(by='score',ascending = False, inplace = True)\n",
    "    \n",
    "    return bi_gender_ii\n",
    "    "
   ]
  },
  {
   "cell_type": "code",
   "execution_count": 86,
   "metadata": {
    "colab": {},
    "colab_type": "code",
    "id": "MRcmlHOqyo5t",
    "outputId": "f5fe14a6-7cdf-4161-a4fe-fbe127164e41"
   },
   "outputs": [],
   "source": [
    "gender_df = algorithm_calculation(a) "
   ]
  },
  {
   "cell_type": "code",
   "execution_count": 88,
   "metadata": {},
   "outputs": [
    {
     "data": {
      "text/html": [
       "<div>\n",
       "<style scoped>\n",
       "    .dataframe tbody tr th:only-of-type {\n",
       "        vertical-align: middle;\n",
       "    }\n",
       "\n",
       "    .dataframe tbody tr th {\n",
       "        vertical-align: top;\n",
       "    }\n",
       "\n",
       "    .dataframe thead th {\n",
       "        text-align: right;\n",
       "    }\n",
       "</style>\n",
       "<table border=\"1\" class=\"dataframe\">\n",
       "  <thead>\n",
       "    <tr style=\"text-align: right;\">\n",
       "      <th>Sex</th>\n",
       "      <th>F</th>\n",
       "      <th>M</th>\n",
       "      <th>percent_dff</th>\n",
       "      <th>Total_num</th>\n",
       "      <th>percent_diff_rank</th>\n",
       "      <th>Total_num_rank</th>\n",
       "      <th>score</th>\n",
       "    </tr>\n",
       "    <tr>\n",
       "      <th>Name</th>\n",
       "      <th></th>\n",
       "      <th></th>\n",
       "      <th></th>\n",
       "      <th></th>\n",
       "      <th></th>\n",
       "      <th></th>\n",
       "      <th></th>\n",
       "    </tr>\n",
       "  </thead>\n",
       "  <tbody>\n",
       "    <tr>\n",
       "      <th>Oakley</th>\n",
       "      <td>3239.0</td>\n",
       "      <td>3166.0</td>\n",
       "      <td>0.011397</td>\n",
       "      <td>6405.0</td>\n",
       "      <td>256.0</td>\n",
       "      <td>244.0</td>\n",
       "      <td>439.00</td>\n",
       "    </tr>\n",
       "    <tr>\n",
       "      <th>Briar</th>\n",
       "      <td>1578.0</td>\n",
       "      <td>1578.0</td>\n",
       "      <td>0.000000</td>\n",
       "      <td>3156.0</td>\n",
       "      <td>265.5</td>\n",
       "      <td>226.0</td>\n",
       "      <td>435.00</td>\n",
       "    </tr>\n",
       "    <tr>\n",
       "      <th>Dakota</th>\n",
       "      <td>13165.0</td>\n",
       "      <td>11408.0</td>\n",
       "      <td>0.071501</td>\n",
       "      <td>24573.0</td>\n",
       "      <td>235.0</td>\n",
       "      <td>263.0</td>\n",
       "      <td>432.25</td>\n",
       "    </tr>\n",
       "    <tr>\n",
       "      <th>Milan</th>\n",
       "      <td>3872.0</td>\n",
       "      <td>4226.0</td>\n",
       "      <td>0.043714</td>\n",
       "      <td>8098.0</td>\n",
       "      <td>242.0</td>\n",
       "      <td>248.0</td>\n",
       "      <td>428.00</td>\n",
       "    </tr>\n",
       "    <tr>\n",
       "      <th>Justice</th>\n",
       "      <td>6444.0</td>\n",
       "      <td>5818.0</td>\n",
       "      <td>0.051052</td>\n",
       "      <td>12262.0</td>\n",
       "      <td>238.0</td>\n",
       "      <td>253.0</td>\n",
       "      <td>427.75</td>\n",
       "    </tr>\n",
       "    <tr>\n",
       "      <th>Landry</th>\n",
       "      <td>2351.0</td>\n",
       "      <td>2247.0</td>\n",
       "      <td>0.022619</td>\n",
       "      <td>4598.0</td>\n",
       "      <td>250.0</td>\n",
       "      <td>236.0</td>\n",
       "      <td>427.00</td>\n",
       "    </tr>\n",
       "    <tr>\n",
       "      <th>Jael</th>\n",
       "      <td>1189.0</td>\n",
       "      <td>1162.0</td>\n",
       "      <td>0.011484</td>\n",
       "      <td>2351.0</td>\n",
       "      <td>255.0</td>\n",
       "      <td>218.0</td>\n",
       "      <td>418.50</td>\n",
       "    </tr>\n",
       "    <tr>\n",
       "      <th>Lennon</th>\n",
       "      <td>3361.0</td>\n",
       "      <td>2894.0</td>\n",
       "      <td>0.074660</td>\n",
       "      <td>6255.0</td>\n",
       "      <td>234.0</td>\n",
       "      <td>242.0</td>\n",
       "      <td>415.50</td>\n",
       "    </tr>\n",
       "    <tr>\n",
       "      <th>Skyler</th>\n",
       "      <td>8849.0</td>\n",
       "      <td>11143.0</td>\n",
       "      <td>0.114746</td>\n",
       "      <td>19992.0</td>\n",
       "      <td>218.0</td>\n",
       "      <td>261.0</td>\n",
       "      <td>413.75</td>\n",
       "    </tr>\n",
       "    <tr>\n",
       "      <th>Reilly</th>\n",
       "      <td>737.0</td>\n",
       "      <td>765.0</td>\n",
       "      <td>0.018642</td>\n",
       "      <td>1502.0</td>\n",
       "      <td>253.0</td>\n",
       "      <td>212.0</td>\n",
       "      <td>412.00</td>\n",
       "    </tr>\n",
       "  </tbody>\n",
       "</table>\n",
       "</div>"
      ],
      "text/plain": [
       "Sex            F        M  percent_dff  Total_num  percent_diff_rank  \\\n",
       "Name                                                                   \n",
       "Oakley    3239.0   3166.0     0.011397     6405.0              256.0   \n",
       "Briar     1578.0   1578.0     0.000000     3156.0              265.5   \n",
       "Dakota   13165.0  11408.0     0.071501    24573.0              235.0   \n",
       "Milan     3872.0   4226.0     0.043714     8098.0              242.0   \n",
       "Justice   6444.0   5818.0     0.051052    12262.0              238.0   \n",
       "Landry    2351.0   2247.0     0.022619     4598.0              250.0   \n",
       "Jael      1189.0   1162.0     0.011484     2351.0              255.0   \n",
       "Lennon    3361.0   2894.0     0.074660     6255.0              234.0   \n",
       "Skyler    8849.0  11143.0     0.114746    19992.0              218.0   \n",
       "Reilly     737.0    765.0     0.018642     1502.0              253.0   \n",
       "\n",
       "Sex      Total_num_rank   score  \n",
       "Name                             \n",
       "Oakley            244.0  439.00  \n",
       "Briar             226.0  435.00  \n",
       "Dakota            263.0  432.25  \n",
       "Milan             248.0  428.00  \n",
       "Justice           253.0  427.75  \n",
       "Landry            236.0  427.00  \n",
       "Jael              218.0  418.50  \n",
       "Lennon            242.0  415.50  \n",
       "Skyler            261.0  413.75  \n",
       "Reilly            212.0  412.00  "
      ]
     },
     "execution_count": 88,
     "metadata": {},
     "output_type": "execute_result"
    }
   ],
   "source": [
    "gender_df.head(10) ### Tableau Data"
   ]
  },
  {
   "cell_type": "markdown",
   "metadata": {
    "colab_type": "text",
    "id": "S44HwoxFyo50"
   },
   "source": [
    "## Part IV Longevity Prediction"
   ]
  },
  {
   "cell_type": "code",
   "execution_count": 91,
   "metadata": {},
   "outputs": [],
   "source": [
    "from sklearn.model_selection import cross_val_score, GridSearchCV\n",
    "from sklearn.ensemble import RandomForestRegressor\n",
    "from sklearn.preprocessing import MinMaxScaler\n",
    "from sklearn.model_selection import train_test_split \n",
    "from sklearn.linear_model import LinearRegression\n",
    "from sklearn import metrics"
   ]
  },
  {
   "cell_type": "code",
   "execution_count": 129,
   "metadata": {},
   "outputs": [],
   "source": [
    "### dataset getting ready \n",
    "min_df = a.groupby(['Name']).agg({\"year\":min})\n",
    "min_df.rename(columns = {\"year\":\"year_min\"}, inplace = True)\n",
    "max_df = a.groupby(['Name']).agg({\"year\":max,\"State\":pd.Series.nunique})\n",
    "long_df = min_df.join(max_df)\n",
    "long_df['duration']  = long_df['year']- long_df['year_min'] +1\n",
    "regression_df = gender_df.join(long_df)"
   ]
  },
  {
   "cell_type": "code",
   "execution_count": 130,
   "metadata": {},
   "outputs": [],
   "source": [
    "X_train, X_test, y_train, y_test = train_test_split(regression_df[['F','M','State','score']], regression_df['duration'], test_size=0.2, random_state=0)"
   ]
  },
  {
   "cell_type": "code",
   "execution_count": 131,
   "metadata": {},
   "outputs": [],
   "source": [
    "regressor = LinearRegression()  \n",
    "regressor.fit(X_train, y_train) #training the algorithm\n",
    "y_pred = regressor.predict(X_test)\n",
    "df = pd.DataFrame({'Actual': y_test, 'Predicted': y_pred})\n",
    "df['absolute mean error']= abs(df['Actual']-df['Predicted'])\n",
    "#df.sort_values('absolute mean error', ascending = False)"
   ]
  },
  {
   "cell_type": "code",
   "execution_count": 132,
   "metadata": {},
   "outputs": [
    {
     "name": "stdout",
     "output_type": "stream",
     "text": [
      "Mean Absolute Error: 2.0275969693157117\n",
      "Mean Squared Error: 6.209622510663691\n",
      "Root Mean Squared Error: 2.491911417098066\n"
     ]
    }
   ],
   "source": [
    "print('Mean Absolute Error:', metrics.mean_absolute_error(y_test, y_pred))  \n",
    "print('Mean Squared Error:', metrics.mean_squared_error(y_test, y_pred))  \n",
    "print('Root Mean Squared Error:', np.sqrt(metrics.mean_squared_error(y_test, y_pred)))"
   ]
  },
  {
   "cell_type": "code",
   "execution_count": 133,
   "metadata": {},
   "outputs": [
    {
     "name": "stderr",
     "output_type": "stream",
     "text": [
      "/Users/tingtinggu/anaconda3/lib/python3.7/site-packages/sklearn/model_selection/_search.py:841: DeprecationWarning:\n",
      "\n",
      "The default of the `iid` parameter will change from True to False in version 0.22 and will be removed in 0.24. This will change numeric results when test-set sizes are unequal.\n",
      "\n"
     ]
    }
   ],
   "source": [
    "gsc = GridSearchCV(\n",
    "        estimator=RandomForestRegressor(),\n",
    "        param_grid={\n",
    "            'max_depth': range(3,5),\n",
    "            'n_estimators': (10, 20, 30, 40),\n",
    "        },\n",
    "        cv=5, scoring='neg_mean_squared_error', verbose=0, n_jobs=-1)\n",
    "    \n",
    "grid_result = gsc.fit(X_train, y_train)\n",
    "best_params = grid_result.best_params_"
   ]
  },
  {
   "cell_type": "code",
   "execution_count": 134,
   "metadata": {},
   "outputs": [
    {
     "data": {
      "text/plain": [
       "RandomForestRegressor(bootstrap=True, criterion='mse', max_depth=3,\n",
       "           max_features='auto', max_leaf_nodes=None,\n",
       "           min_impurity_decrease=0.0, min_impurity_split=None,\n",
       "           min_samples_leaf=1, min_samples_split=2,\n",
       "           min_weight_fraction_leaf=0.0, n_estimators=40, n_jobs=None,\n",
       "           oob_score=False, random_state=False, verbose=False,\n",
       "           warm_start=False)"
      ]
     },
     "execution_count": 134,
     "metadata": {},
     "output_type": "execute_result"
    }
   ],
   "source": [
    "rfr = RandomForestRegressor(max_depth=best_params[\"max_depth\"], n_estimators=best_params[\"n_estimators\"],                               random_state=False, verbose=False)\n",
    "rfr.fit(X_train, y_train)"
   ]
  },
  {
   "cell_type": "code",
   "execution_count": 135,
   "metadata": {},
   "outputs": [],
   "source": [
    "y_predict_rf_1 = rfr.predict(X_train)\n",
    "df_rf_1 = pd.DataFrame({'Actual': y_train, 'Predicted': y_predict_rf_1 })\n",
    "y_predict_rf_2 = rfr.predict(X_test)\n",
    "df_rf_2 = pd.DataFrame({'Actual': y_test, 'Predicted': y_predict_rf_2 })\n",
    "df_rf = df_rf_1.append(df_rf_2)\n",
    "df_rf['absolute mean error'] = abs(df_rf[\"Predicted\"]- df_rf[\"Actual\"])"
   ]
  },
  {
   "cell_type": "code",
   "execution_count": 137,
   "metadata": {},
   "outputs": [
    {
     "name": "stdout",
     "output_type": "stream",
     "text": [
      "Mean Absolute Error: 1.091657002947194\n",
      "Mean Squared Error: 3.631039189754201\n",
      "Root Mean Squared Error: 1.9055285853941424\n"
     ]
    }
   ],
   "source": [
    "print('Mean Absolute Error:', metrics.mean_absolute_error(y_test, y_predict_rf_2))  \n",
    "print('Mean Squared Error:', metrics.mean_squared_error(y_test, y_predict_rf_2))  \n",
    "print('Root Mean Squared Error:', np.sqrt(metrics.mean_squared_error(y_test, y_predict_rf_2)))"
   ]
  },
  {
   "cell_type": "code",
   "execution_count": null,
   "metadata": {},
   "outputs": [],
   "source": []
  }
 ],
 "metadata": {
  "colab": {
   "name": "InteractiveDataScience_Project_1.ipynb",
   "provenance": [],
   "toc_visible": true
  },
  "kernelspec": {
   "display_name": "Python 3",
   "language": "python",
   "name": "python3"
  },
  "language_info": {
   "codemirror_mode": {
    "name": "ipython",
    "version": 3
   },
   "file_extension": ".py",
   "mimetype": "text/x-python",
   "name": "python",
   "nbconvert_exporter": "python",
   "pygments_lexer": "ipython3",
   "version": "3.7.3"
  }
 },
 "nbformat": 4,
 "nbformat_minor": 1
}
